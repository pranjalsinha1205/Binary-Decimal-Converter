{
  "nbformat": 4,
  "nbformat_minor": 0,
  "metadata": {
    "colab": {
      "provenance": [],
      "authorship_tag": "ABX9TyN5NsNoujw+aoAze5YDUGt/",
      "include_colab_link": true
    },
    "kernelspec": {
      "name": "python3",
      "display_name": "Python 3"
    },
    "language_info": {
      "name": "python"
    }
  },
  "cells": [
    {
      "cell_type": "markdown",
      "metadata": {
        "id": "view-in-github",
        "colab_type": "text"
      },
      "source": [
        "<a href=\"https://colab.research.google.com/github/pranjalsinha1205/Binary-Decimal-Converter/blob/main/Binary_Decimal_converter.ipynb\" target=\"_parent\"><img src=\"https://colab.research.google.com/assets/colab-badge.svg\" alt=\"Open In Colab\"/></a>"
      ]
    },
    {
      "cell_type": "code",
      "execution_count": 4,
      "metadata": {
        "id": "nu6lvQ0rghgv"
      },
      "outputs": [],
      "source": [
        "def binary_to_decimal():\n",
        "  s = input(\"Enter the string: \")\n",
        "  s = s[::-1]\n",
        "  num = 0\n",
        "  for i in range(len(s)):\n",
        "    num += int(s[i])*(2**i)\n",
        "  return num"
      ]
    },
    {
      "cell_type": "code",
      "source": [
        "binary_to_decimal()"
      ],
      "metadata": {
        "colab": {
          "base_uri": "https://localhost:8080/"
        },
        "id": "kceJ4maIhEV8",
        "outputId": "a3fde123-a12d-43af-b50a-8c531e18ef12"
      },
      "execution_count": 6,
      "outputs": [
        {
          "name": "stdout",
          "output_type": "stream",
          "text": [
            "Enter the string: 1001\n"
          ]
        },
        {
          "output_type": "execute_result",
          "data": {
            "text/plain": [
              "9"
            ]
          },
          "metadata": {},
          "execution_count": 6
        }
      ]
    },
    {
      "cell_type": "code",
      "source": [
        "def decimal_to_binary():\n",
        "  try:\n",
        "    n = int(input(\"Enter the num: \"))\n",
        "    s = ''\n",
        "    while n!=1:\n",
        "      s += str(n%2)\n",
        "      n = n//2\n",
        "    s += '1'\n",
        "    s = s[::-1]\n",
        "    return s\n",
        "  except ValueError:\n",
        "    return 'Only integers are allowed'"
      ],
      "metadata": {
        "id": "u9MUamOXhcba"
      },
      "execution_count": 13,
      "outputs": []
    },
    {
      "cell_type": "code",
      "source": [
        "decimal_to_binary()"
      ],
      "metadata": {
        "colab": {
          "base_uri": "https://localhost:8080/",
          "height": 53
        },
        "id": "oyI5WvrXiYfJ",
        "outputId": "4eb86b03-c1e8-4642-f83c-b9c10dce65bc"
      },
      "execution_count": 21,
      "outputs": [
        {
          "name": "stdout",
          "output_type": "stream",
          "text": [
            "Enter the num: 2\n"
          ]
        },
        {
          "output_type": "execute_result",
          "data": {
            "text/plain": [
              "'10'"
            ],
            "application/vnd.google.colaboratory.intrinsic+json": {
              "type": "string"
            }
          },
          "metadata": {},
          "execution_count": 21
        }
      ]
    }
  ]
}